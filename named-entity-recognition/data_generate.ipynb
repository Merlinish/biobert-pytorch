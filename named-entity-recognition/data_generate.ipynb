{
 "cells": [
  {
   "cell_type": "markdown",
   "id": "56338617-7b30-4308-865a-88e48dafe81d",
   "metadata": {},
   "source": [
    "## load data"
   ]
  },
  {
   "cell_type": "code",
   "execution_count": 2,
   "id": "2cbb7c24-fc4c-4b19-a285-ca9538fed969",
   "metadata": {
    "ExecuteTime": {
     "end_time": "2024-03-08T08:28:03.062913Z",
     "start_time": "2024-03-08T08:28:02.749332Z"
    }
   },
   "outputs": [],
   "source": [
    "import pandas as pd\n"
   ]
  },
  {
   "cell_type": "code",
   "execution_count": 3,
   "id": "ce588a20-8105-4c13-a689-e992adb60e0b",
   "metadata": {
    "scrolled": true,
    "ExecuteTime": {
     "end_time": "2024-03-08T08:28:03.697657Z",
     "start_time": "2024-03-08T08:28:03.683209Z"
    }
   },
   "outputs": [],
   "source": [
    "raw_data = pd.read_csv('./sorted_data.csv')\n",
    "raw_Free_text = raw_data['Free_text']\n",
    "raw_diagnosis = raw_data['diagnosis']\n",
    "raw_stage = raw_data['stage']\n",
    "raw_prior_therapy = raw_data['prior_therapy']\n",
    "raw_genetic_mutation = raw_data['genetic_mutation']\n",
    "raw_additional_remark = raw_data['additional_remark']"
   ]
  },
  {
   "cell_type": "code",
   "execution_count": 4,
   "id": "bdc152ea-fbae-4059-b9a1-787e44a404fe",
   "metadata": {
    "ExecuteTime": {
     "end_time": "2024-03-08T08:28:04.622523Z",
     "start_time": "2024-03-08T08:28:04.618312Z"
    }
   },
   "outputs": [
    {
     "data": {
      "text/plain": "('No known allergies 1. Lung adenocarcinoma with pleural and BRAIN mets (TPS 60%, MET polysomy, ALK IHC high but FISH negative, EGFR exon 20 insertion (NM_005228.3) p.A763_Y764insFQEA)) to pleural, hilar and mediastinal nodes - Afatinib from 7/11/20 (dose reduced to 30mg on 27/11/20) - CTNO155X2101 May 2022 > EOT 9/9/22 - Bayer21607 22/9/22 > EOT 9/1/23 - Alimta carboplatin from 20/1/23 to 28/4/23 - WBRT June 2023 - Gemcitabine carboplatin from 6/7/23 to 11/1/24 2. Ovarian cyst',\n 480)"
     },
     "execution_count": 4,
     "metadata": {},
     "output_type": "execute_result"
    }
   ],
   "source": [
    "raw_Free_text[0], len(raw_Free_text[0])"
   ]
  },
  {
   "cell_type": "code",
   "execution_count": 5,
   "id": "44638b6a-1cb5-43e0-9e69-7b6a0484a26f",
   "metadata": {
    "ExecuteTime": {
     "end_time": "2024-03-08T08:28:05.627762Z",
     "start_time": "2024-03-08T08:28:05.625398Z"
    }
   },
   "outputs": [],
   "source": [
    "def is_num(a):\n",
    "    if a>='0' and a<='9':\n",
    "        return True\n",
    "    else: return False"
   ]
  },
  {
   "cell_type": "code",
   "execution_count": 6,
   "id": "1159be20-ff75-4e5d-85b7-6b0e36a99805",
   "metadata": {
    "ExecuteTime": {
     "end_time": "2024-03-08T08:28:05.855047Z",
     "start_time": "2024-03-08T08:28:05.852524Z"
    }
   },
   "outputs": [],
   "source": [
    "def is_alpbet(chactor):\n",
    "    if (chactor>='a' and chactor<='z') or (chactor>='A' and chactor<='Z'):\n",
    "        return True\n",
    "    else: return False"
   ]
  },
  {
   "cell_type": "markdown",
   "id": "ef90ce87-ae26-4d15-8bac-4b9af49103b4",
   "metadata": {},
   "source": [
    "## split based on the space and the punctuation marks, but remain the '/' to present the date (further update needed for filtering '%' or '.' or more marks)\n",
    "### -- how about just keep the punctuation marks that following the numbers, both saves the '/' in date and '%' in percent, but it also save the '.' after the number that presenting different notes. (not applied)"
   ]
  },
  {
   "cell_type": "code",
   "execution_count": 7,
   "id": "2e872f11-b5b8-47b7-af7e-1c8a10a9b121",
   "metadata": {
    "ExecuteTime": {
     "end_time": "2024-03-08T08:28:07.383738Z",
     "start_time": "2024-03-08T08:28:07.380625Z"
    }
   },
   "outputs": [],
   "source": [
    "def split(Sentence):\n",
    "    start_index, end_index = 0, 1\n",
    "    max_length = len(Sentence)\n",
    "    # print(max_length)\n",
    "    result = []\n",
    "    while (end_index < max_length and start_index < max_length):\n",
    "        if is_num(Sentence[start_index]) or is_alpbet(Sentence[start_index]):\n",
    "            if is_num(Sentence[end_index]) or is_alpbet(Sentence[end_index]):\n",
    "                end_index = end_index + 1\n",
    "                if end_index == max_length:\n",
    "                    result.append(Sentence[start_index: ])\n",
    "                    # print(result[-1])\n",
    "            else: \n",
    "                if Sentence[end_index] == '/' and (is_num(Sentence[end_index+1]) or is_alpbet(Sentence[end_index+1])):\n",
    "                    end_index = end_index + 1\n",
    "                    continue\n",
    "                result.append(Sentence[start_index: end_index])\n",
    "                # print(result[-1])\n",
    "                start_index = end_index\n",
    "                end_index = start_index + 1\n",
    "        else: \n",
    "            start_index = start_index + 1\n",
    "            end_index = start_index + 1\n",
    "        \n",
    "    return result"
   ]
  },
  {
   "cell_type": "code",
   "execution_count": 8,
   "id": "4a2e4c60-cc46-4af3-98bd-117199d98977",
   "metadata": {
    "scrolled": true,
    "ExecuteTime": {
     "end_time": "2024-03-08T08:28:09.305152Z",
     "start_time": "2024-03-08T08:28:09.301487Z"
    }
   },
   "outputs": [
    {
     "data": {
      "text/plain": "('No known allergies 1. Lung adenocarcinoma with pleural and BRAIN mets (TPS 60%, MET polysomy, ALK IHC high but FISH negative, EGFR exon 20 insertion (NM_005228.3) p.A763_Y764insFQEA)) to pleural, hilar and mediastinal nodes - Afatinib from 7/11/20 (dose reduced to 30mg on 27/11/20) - CTNO155X2101 May 2022 > EOT 9/9/22 - Bayer21607 22/9/22 > EOT 9/1/23 - Alimta carboplatin from 20/1/23 to 28/4/23 - WBRT June 2023 - Gemcitabine carboplatin from 6/7/23 to 11/1/24 2. Ovarian cyst',\n ['No',\n  'known',\n  'allergies',\n  '1',\n  'Lung',\n  'adenocarcinoma',\n  'with',\n  'pleural',\n  'and',\n  'BRAIN',\n  'mets',\n  'TPS',\n  '60',\n  'MET',\n  'polysomy',\n  'ALK',\n  'IHC',\n  'high',\n  'but',\n  'FISH',\n  'negative',\n  'EGFR',\n  'exon',\n  '20',\n  'insertion',\n  'NM',\n  '005228',\n  '3',\n  'p',\n  'A763',\n  'Y764insFQEA',\n  'to',\n  'pleural',\n  'hilar',\n  'and',\n  'mediastinal',\n  'nodes',\n  'Afatinib',\n  'from',\n  '7/11/20',\n  'dose',\n  'reduced',\n  'to',\n  '30mg',\n  'on',\n  '27/11/20',\n  'CTNO155X2101',\n  'May',\n  '2022',\n  'EOT',\n  '9/9/22',\n  'Bayer21607',\n  '22/9/22',\n  'EOT',\n  '9/1/23',\n  'Alimta',\n  'carboplatin',\n  'from',\n  '20/1/23',\n  'to',\n  '28/4/23',\n  'WBRT',\n  'June',\n  '2023',\n  'Gemcitabine',\n  'carboplatin',\n  'from',\n  '6/7/23',\n  'to',\n  '11/1/24',\n  '2',\n  'Ovarian',\n  'cyst'])"
     },
     "execution_count": 8,
     "metadata": {},
     "output_type": "execute_result"
    }
   ],
   "source": [
    "text = split(str(raw_Free_text[0]))\n",
    "raw_Free_text[0], text"
   ]
  },
  {
   "cell_type": "code",
   "execution_count": 9,
   "id": "c4be0e3c-de44-425b-b2e7-a71be9fb93fa",
   "metadata": {
    "ExecuteTime": {
     "end_time": "2024-03-08T08:28:10.221803Z",
     "start_time": "2024-03-08T08:28:10.208199Z"
    }
   },
   "outputs": [],
   "source": [
    "Free_text = []\n",
    "# i = 0\n",
    "for ft in raw_Free_text:\n",
    "    Free_text.append(split(str(ft)))\n",
    "    # print(i)\n",
    "    # i = i+ 1\n",
    "# raw_Free_text[0], Free_text[0]\n",
    "    \n",
    "diagnosis = []\n",
    "for d in raw_diagnosis:\n",
    "    diagnosis.append(split(d))\n",
    "\n",
    "stage = []\n",
    "for s in raw_stage:\n",
    "    stage.append(split(str(s)))\n",
    "\n",
    "prior_therapy = []\n",
    "for pt in raw_prior_therapy:\n",
    "    prior_therapy.append(split(pt))\n",
    "\n",
    "genetic_mutation = []\n",
    "for gm in raw_genetic_mutation:\n",
    "    genetic_mutation.append(split(str(gm)))\n",
    "\n",
    "additional_remark = []\n",
    "for ar in raw_additional_remark:\n",
    "    additional_remark.append(split(str(ar)))\n"
   ]
  },
  {
   "cell_type": "code",
   "execution_count": 10,
   "id": "5d8ca219-d832-4a72-b429-9363532334a0",
   "metadata": {
    "ExecuteTime": {
     "end_time": "2024-03-08T08:28:11.610244Z",
     "start_time": "2024-03-08T08:28:11.606912Z"
    }
   },
   "outputs": [
    {
     "data": {
      "text/plain": "46"
     },
     "execution_count": 10,
     "metadata": {},
     "output_type": "execute_result"
    }
   ],
   "source": [
    "len( Free_text)"
   ]
  },
  {
   "cell_type": "markdown",
   "id": "90202f90-9cfa-41a6-9bd9-6e00a06c4a75",
   "metadata": {},
   "source": [
    "## generate label collection"
   ]
  },
  {
   "cell_type": "code",
   "execution_count": 11,
   "id": "90102704-2fe6-4c62-bef6-9de497fa256b",
   "metadata": {
    "ExecuteTime": {
     "end_time": "2024-03-08T08:28:12.841642Z",
     "start_time": "2024-03-08T08:28:12.837391Z"
    }
   },
   "outputs": [],
   "source": [
    "D = []\n",
    "for sli in diagnosis:\n",
    "    for word in sli:\n",
    "        if word not in D:\n",
    "            D.append(word)\n",
    "\n",
    "S = []\n",
    "for sli in stage:\n",
    "    for word in sli:\n",
    "        if word not in S:\n",
    "            S.append(word)\n",
    "\n",
    "P = []\n",
    "for sli in prior_therapy:\n",
    "    for word in sli:\n",
    "        if word not in P:\n",
    "            P.append(word)\n",
    "\n",
    "G = []\n",
    "for sli in genetic_mutation:\n",
    "    for word in sli:\n",
    "        if word not in G:\n",
    "            G.append(word)\n",
    "\n",
    "A = []\n",
    "for sli in additional_remark:\n",
    "    for word in sli:\n",
    "        if word not in A:\n",
    "            A.append(word)"
   ]
  },
  {
   "cell_type": "markdown",
   "id": "9166d667-c85e-4647-ae26-10559420173c",
   "metadata": {
    "scrolled": true
   },
   "source": [
    "#### have question here about the splite, like how do we handle with such things: 'ALK/ROS1/BRAF/MET/HER2/RET/NTRK/KRAS' in list G\n",
    "#### - using number recognise to solve it, but what are the missing datas we are facing"
   ]
  },
  {
   "cell_type": "code",
   "execution_count": 12,
   "id": "fb4a37b0-3f80-4dd0-80e2-24e7bede6d2e",
   "metadata": {
    "ExecuteTime": {
     "end_time": "2024-03-08T08:28:14.406844Z",
     "start_time": "2024-03-08T08:28:14.403776Z"
    }
   },
   "outputs": [],
   "source": [
    "diagnosis = pd.DataFrame(D, columns=['value'])\n",
    "stage = pd.DataFrame(S, columns=['value'])\n",
    "prior_therapy = pd.DataFrame(P, columns=['value'])\n",
    "genetic_mutation = pd.DataFrame(G, columns=['value'])\n",
    "additional_remark = pd.DataFrame(A, columns=['value'])"
   ]
  },
  {
   "cell_type": "code",
   "execution_count": 14,
   "id": "a524eaed-830c-4089-a487-93866b01b554",
   "metadata": {
    "ExecuteTime": {
     "end_time": "2024-03-08T08:29:31.425879Z",
     "start_time": "2024-03-08T08:29:31.421215Z"
    }
   },
   "outputs": [],
   "source": [
    "diagnosis.to_csv('../datasets/NER/LOCAL/diagnosis.csv', index=False)\n",
    "stage.to_csv('../datasets/NER/LOCAL/stage.csv', index=False)\n",
    "prior_therapy.to_csv('../datasets/NER/LOCAL/prior_therapy.csv', index=False)\n",
    "genetic_mutation.to_csv('../datasets/NER/LOCAL/genetic_mutation.csv', index=False)\n",
    "additional_remark.to_csv('../datasets/NER/LOCAL/additional_remark.csv', index=False)"
   ]
  },
  {
   "cell_type": "markdown",
   "id": "4f74ca41-f421-442e-9f97-09a35d86d882",
   "metadata": {},
   "source": [
    "## generate the tage based on the matching"
   ]
  },
  {
   "cell_type": "markdown",
   "id": "b2eede5b-88cc-4f8e-b609-feee87ef84df",
   "metadata": {},
   "source": [
    "### Like what I see in the conll DataBase, the format we need to copy\n",
    "##### 'O' - the token does not need attention\n",
    "##### 'B-D' - the token that presents the BEGINNING of the diagnosis\n",
    "##### 'I-D' - the token that presents IN a part of the diagnosis\n",
    "##### 'B-S' - the token that presents the BEGINNING of the stage\n",
    "##### 'I-S' - the token that presents IN a part of the stage\n",
    "##### 'B-P' - the token that presents the BEGINNING of the prior_therapy\n",
    "##### 'I-P' - the token that presents IN a part of the prior_therapy\n",
    "##### 'B-G' - the token that presents the BEGINNING of the genetic_mutation\n",
    "##### 'I-G' - the token that presents IN a part of the genetic_mutation\n",
    "##### 'B-A' - the token that presents the BEGINNING of the additional_remark\n",
    "##### 'I-A' - the token that presents IN a part of the additional_remark"
   ]
  },
  {
   "cell_type": "code",
   "execution_count": 15,
   "id": "2759d4e7-d9d5-4665-bd41-73ce086b6c27",
   "metadata": {
    "scrolled": true,
    "ExecuteTime": {
     "end_time": "2024-03-08T08:29:37.596745Z",
     "start_time": "2024-03-08T08:29:37.579175Z"
    }
   },
   "outputs": [
    {
     "data": {
      "text/plain": "(['O',\n  'O',\n  'O',\n  'B-P',\n  'B-D',\n  'I-D',\n  'B-S',\n  'I-S',\n  'I-S',\n  'I-S',\n  'I-S',\n  'B-G',\n  'I-G',\n  'I-G',\n  'I-G',\n  'I-G',\n  'I-G',\n  'I-G',\n  'I-G',\n  'I-G',\n  'I-G',\n  'I-G',\n  'I-G',\n  'I-G',\n  'I-G',\n  'I-G',\n  'I-G',\n  'B-P',\n  'B-G',\n  'I-G',\n  'I-G',\n  'B-S',\n  'I-S',\n  'O',\n  'B-S',\n  'B-P',\n  'O',\n  'B-P',\n  'B-D',\n  'O',\n  'O',\n  'O',\n  'B-S',\n  'O',\n  'B-G',\n  'O',\n  'B-P',\n  'O',\n  'O',\n  'O',\n  'O',\n  'B-P',\n  'O',\n  'O',\n  'O',\n  'B-P',\n  'I-P',\n  'B-D',\n  'O',\n  'B-S',\n  'O',\n  'B-P',\n  'O',\n  'O',\n  'B-P',\n  'I-P',\n  'B-D',\n  'O',\n  'B-S',\n  'O',\n  'B-G',\n  'O',\n  'O'],\n ['No',\n  'known',\n  'allergies',\n  '1',\n  'Lung',\n  'adenocarcinoma',\n  'with',\n  'pleural',\n  'and',\n  'BRAIN',\n  'mets',\n  'TPS',\n  '60',\n  'MET',\n  'polysomy',\n  'ALK',\n  'IHC',\n  'high',\n  'but',\n  'FISH',\n  'negative',\n  'EGFR',\n  'exon',\n  '20',\n  'insertion',\n  'NM',\n  '005228',\n  '3',\n  'p',\n  'A763',\n  'Y764insFQEA',\n  'to',\n  'pleural',\n  'hilar',\n  'and',\n  'mediastinal',\n  'nodes',\n  'Afatinib',\n  'from',\n  '7/11/20',\n  'dose',\n  'reduced',\n  'to',\n  '30mg',\n  'on',\n  '27/11/20',\n  'CTNO155X2101',\n  'May',\n  '2022',\n  'EOT',\n  '9/9/22',\n  'Bayer21607',\n  '22/9/22',\n  'EOT',\n  '9/1/23',\n  'Alimta',\n  'carboplatin',\n  'from',\n  '20/1/23',\n  'to',\n  '28/4/23',\n  'WBRT',\n  'June',\n  '2023',\n  'Gemcitabine',\n  'carboplatin',\n  'from',\n  '6/7/23',\n  'to',\n  '11/1/24',\n  '2',\n  'Ovarian',\n  'cyst'],\n 73,\n 73)"
     },
     "execution_count": 15,
     "metadata": {},
     "output_type": "execute_result"
    }
   ],
   "source": [
    "tag = []\n",
    "\n",
    "for sentence in Free_text:\n",
    "    temp_tag = []\n",
    "    for word in sentence:\n",
    "        now_tag = 'O'\n",
    "        if word in D:\n",
    "            if len(temp_tag) == 0:\n",
    "                now_tag = 'B-D'\n",
    "            else:\n",
    "                if temp_tag[-1] == 'B-D' or temp_tag[-1] == 'I-D':\n",
    "                    now_tag = 'I-D'\n",
    "                else: now_tag = 'B-D'\n",
    "                    \n",
    "        elif word in S:\n",
    "            if len(temp_tag) == 0:\n",
    "                now_tag = 'B-S'\n",
    "            else:\n",
    "                if temp_tag[-1] == 'B-S' or temp_tag[-1] == 'I-S':\n",
    "                    now_tag = 'I-S'\n",
    "                else: now_tag = 'B-S'\n",
    "                    \n",
    "        elif word in P:\n",
    "            if len(temp_tag) == 0:\n",
    "                now_tag = 'B-P'\n",
    "            else:\n",
    "                if temp_tag[-1] == 'B-P' or temp_tag[-1] == 'I-P':\n",
    "                    now_tag = 'I-P'\n",
    "                else: now_tag = 'B-P'\n",
    "                    \n",
    "        elif word in G:\n",
    "            if len(temp_tag) == 0:\n",
    "                now_tag = 'B-G'\n",
    "            else:\n",
    "                if temp_tag[-1] == 'B-G' or temp_tag[-1] == 'I-G':\n",
    "                    now_tag = 'I-G'\n",
    "                else: now_tag = 'B-G'\n",
    "                    \n",
    "        elif word in A:\n",
    "            if len(temp_tag) == 0:\n",
    "                now_tag = 'B-A'\n",
    "            else:\n",
    "                if temp_tag[-1] == 'B-A' or temp_tag[-1] == 'I-A':\n",
    "                    now_tag = 'I-A'\n",
    "                else: now_tag = 'B-A'\n",
    "                    \n",
    "        else: now_tag = 'O'\n",
    "        temp_tag.append(now_tag)\n",
    "    tag.append(temp_tag)\n",
    "\n",
    "tag[0], Free_text[0], len(tag[0]), len(Free_text[0])"
   ]
  },
  {
   "cell_type": "code",
   "execution_count": 16,
   "id": "67744db3-830f-49de-b9b0-dd5c246d53c1",
   "metadata": {
    "ExecuteTime": {
     "end_time": "2024-03-08T08:29:45.506773Z",
     "start_time": "2024-03-08T08:29:45.503501Z"
    }
   },
   "outputs": [
    {
     "data": {
      "text/plain": "(23, 23)"
     },
     "execution_count": 16,
     "metadata": {},
     "output_type": "execute_result"
    }
   ],
   "source": [
    "len(tag[21]), len(Free_text[21])"
   ]
  },
  {
   "cell_type": "code",
   "outputs": [],
   "source": [
    "##### 'O' - the token does not need attention\n",
    "##### 'B-D' - the token that presents the BEGINNING of the diagnosis\n",
    "##### 'I-D' - the token that presents IN a part of the diagnosis\n",
    "##### 'B-S' - the token that presents the BEGINNING of the stage\n",
    "##### 'I-S' - the token that presents IN a part of the stage\n",
    "##### 'B-P' - the token that presents the BEGINNING of the prior_therapy\n",
    "##### 'I-P' - the token that presents IN a part of the prior_therapy\n",
    "##### 'B-G' - the token that presents the BEGINNING of the genetic_mutation\n",
    "##### 'I-G' - the token that presents IN a part of the genetic_mutation\n",
    "##### 'B-A' - the token that presents the BEGINNING of the additional_remark\n",
    "##### 'I-A' - the token that presents IN a part of the additional_remarkwith open(\"../datasets/NER/LOCAL/train.txt\", 'w') as file:\n",
    "with open(\"../datasets/NER/LOCAL/labels.txt\", 'w') as file:\n",
    "    file.write('O')\n",
    "    file.write('\\n')\n",
    "    file.write('B-D')\n",
    "    file.write('\\n')\n",
    "    file.write('I-D')\n",
    "    file.write('\\n')\n",
    "    file.write('B-S')\n",
    "    file.write('\\n')\n",
    "    file.write('I-S')\n",
    "    file.write('\\n')\n",
    "    file.write('B-P')\n",
    "    file.write('\\n')\n",
    "    file.write('I-P')\n",
    "    file.write('\\n')\n",
    "    file.write('B-G')\n",
    "    file.write('\\n')\n",
    "    file.write('I-G')\n",
    "    file.write('\\n')\n",
    "    file.write('B-A')\n",
    "    file.write('\\n')\n",
    "    file.write('I-A')"
   ],
   "metadata": {
    "collapsed": false,
    "ExecuteTime": {
     "end_time": "2024-03-08T08:35:38.112043Z",
     "start_time": "2024-03-08T08:35:38.108613Z"
    }
   },
   "id": "3e5f6ec4d4cb639e",
   "execution_count": 19
  },
  {
   "cell_type": "code",
   "execution_count": 21,
   "id": "efc19c25-b1c1-46de-9036-82affa33f6f1",
   "metadata": {
    "scrolled": true,
    "ExecuteTime": {
     "end_time": "2024-03-08T08:36:54.343569Z",
     "start_time": "2024-03-08T08:36:54.339785Z"
    }
   },
   "outputs": [],
   "source": [
    "with open(\"../datasets/NER/LOCAL/train.txt\", 'w') as file:\n",
    "    for sentence in range(len(Free_text)):\n",
    "        for i in range(len(Free_text[sentence])):\n",
    "            file.write(Free_text[sentence][i] + ' ' + tag[sentence][i] + '\\n')\n",
    "        file.write('\\n')\n",
    "    file.close()"
   ]
  },
  {
   "cell_type": "code",
   "execution_count": null,
   "id": "8255be43-7dfc-47a0-870c-6dde31af1566",
   "metadata": {},
   "outputs": [],
   "source": []
  }
 ],
 "metadata": {
  "kernelspec": {
   "display_name": "openai",
   "language": "python",
   "name": "openai"
  },
  "language_info": {
   "codemirror_mode": {
    "name": "ipython",
    "version": 3
   },
   "file_extension": ".py",
   "mimetype": "text/x-python",
   "name": "python",
   "nbconvert_exporter": "python",
   "pygments_lexer": "ipython3",
   "version": "3.10.13"
  }
 },
 "nbformat": 4,
 "nbformat_minor": 5
}
