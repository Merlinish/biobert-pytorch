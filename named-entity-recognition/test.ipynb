{
 "cells": [
  {
   "cell_type": "markdown",
   "source": [
    "## basics"
   ],
   "metadata": {
    "collapsed": false
   },
   "id": "25f8626cab6817c8"
  },
  {
   "cell_type": "code",
   "outputs": [],
   "source": [
    "import transformers\n",
    "from transformers import AutoTokenizer, AutoModelForTokenClassification, AutoConfig\n",
    "import torch\n",
    "import pandas as pd"
   ],
   "metadata": {
    "collapsed": false,
    "ExecuteTime": {
     "end_time": "2024-03-08T09:36:47.796581Z",
     "start_time": "2024-03-08T09:36:46.945726Z"
    }
   },
   "id": "7f0e5ae5c024c461",
   "execution_count": 1
  },
  {
   "cell_type": "markdown",
   "source": [
    "##### get data"
   ],
   "metadata": {
    "collapsed": false
   },
   "id": "7933ae0171e249e"
  },
  {
   "cell_type": "code",
   "outputs": [],
   "source": [
    "data = pd.read_excel('sorted_data.xlsx')\n",
    "# print(data.head())\n",
    "# print(data.columns.tolist())\n",
    "data = data['Free_text'].tolist()\n"
   ],
   "metadata": {
    "collapsed": false,
    "ExecuteTime": {
     "end_time": "2024-03-08T09:37:09.367308Z",
     "start_time": "2024-03-08T09:37:09.354349Z"
    }
   },
   "id": "e3e5bb19464c8b66",
   "execution_count": 6
  },
  {
   "cell_type": "markdown",
   "source": [
    "##### get model and tokenizer"
   ],
   "metadata": {
    "collapsed": false
   },
   "id": "ae852fc09bb6848f"
  },
  {
   "cell_type": "code",
   "outputs": [],
   "source": [
    "model = AutoModelForTokenClassification.from_pretrained('./output/LOCAL')\n",
    "tokenizer = AutoTokenizer.from_pretrained('./output/LOCAL')"
   ],
   "metadata": {
    "collapsed": false,
    "ExecuteTime": {
     "end_time": "2024-03-08T09:36:51.859405Z",
     "start_time": "2024-03-08T09:36:51.249490Z"
    }
   },
   "id": "25e8ae479df83166",
   "execution_count": 3
  },
  {
   "cell_type": "code",
   "outputs": [
    {
     "data": {
      "text/plain": "{'input_ids': tensor([[  101,  1185,  1227,  1155,  1200, 19310,   122,   119, 13093,  8050,\n         26601,  8766, 16430,  7903,  1114,   185,  1513, 12602,  1105,  3575,\n          1899,  1116,   113,   189,  3491,  2539,   110,   117,  1899,   185,\n         23415,  7301,  4527,   117,  2393,  1377,   178,  1324,  1665,  1344,\n          1133,  3489,  4366,   117,   174,  1403,  2087,  1197,  4252,  1320,\n          1406, 27914,   113, 19137,   168,  3135,  1571, 20581,  1604,   119,\n           124,   114,   185,   119,   170,  1559,  1545,  1495,   168,   194,\n          1559, 22433,  4935,  2087,  4426,  4490,   114,   114,  1106,   185,\n          1513, 12602,   117, 20844,  5815,  1105,  2394,  2050, 14196, 15029,\n           118,   170,  8057,  6105, 13292,  1121,   128,   120,  1429,   120,\n          1406,   113, 13753,  3549,  1106,  1476,  1306,  1403,  1113,  1765,\n           120,  1429,   120,  1406,   114,   118,   172,  1204,  2728, 16337,\n          1571,  1775, 18202, 24400,  1336, 17881,  1477,   135,   174,  3329,\n           130,   120,   130,   120,  1659,   118,  5952,  1200, 18202, 16480,\n          1559,  1659,   120,   130,   120,  1659,   135,   174,  3329,   130,\n           120,   122,   120,  1695,   118,  2393,  4060,  1777,  1610,  4043,\n          1643, 16236,  1394,  1121,  1406,   120,   122,   120,  1695,  1106,\n          1743,   120,   125,   120,  1695,   118,   192,  1830,  3740,   179,\n         10038, 17881,  1495,   118,   176,  5521,  6617,  1777, 16405,  1610,\n          4043,  1643, 16236,  1394,  1121,   127,   120,   128,   120,  1695,\n          1106,  1429,   120,   122,   120,  1572,   123,   119,   184,  8997,\n          1811,   172,  6834,  1204,   102]]), 'token_type_ids': tensor([[0, 0, 0, 0, 0, 0, 0, 0, 0, 0, 0, 0, 0, 0, 0, 0, 0, 0, 0, 0, 0, 0, 0, 0,\n         0, 0, 0, 0, 0, 0, 0, 0, 0, 0, 0, 0, 0, 0, 0, 0, 0, 0, 0, 0, 0, 0, 0, 0,\n         0, 0, 0, 0, 0, 0, 0, 0, 0, 0, 0, 0, 0, 0, 0, 0, 0, 0, 0, 0, 0, 0, 0, 0,\n         0, 0, 0, 0, 0, 0, 0, 0, 0, 0, 0, 0, 0, 0, 0, 0, 0, 0, 0, 0, 0, 0, 0, 0,\n         0, 0, 0, 0, 0, 0, 0, 0, 0, 0, 0, 0, 0, 0, 0, 0, 0, 0, 0, 0, 0, 0, 0, 0,\n         0, 0, 0, 0, 0, 0, 0, 0, 0, 0, 0, 0, 0, 0, 0, 0, 0, 0, 0, 0, 0, 0, 0, 0,\n         0, 0, 0, 0, 0, 0, 0, 0, 0, 0, 0, 0, 0, 0, 0, 0, 0, 0, 0, 0, 0, 0, 0, 0,\n         0, 0, 0, 0, 0, 0, 0, 0, 0, 0, 0, 0, 0, 0, 0, 0, 0, 0, 0, 0, 0, 0, 0, 0,\n         0, 0, 0, 0, 0, 0, 0, 0, 0, 0, 0, 0, 0, 0, 0, 0, 0, 0, 0, 0, 0, 0, 0]]), 'attention_mask': tensor([[1, 1, 1, 1, 1, 1, 1, 1, 1, 1, 1, 1, 1, 1, 1, 1, 1, 1, 1, 1, 1, 1, 1, 1,\n         1, 1, 1, 1, 1, 1, 1, 1, 1, 1, 1, 1, 1, 1, 1, 1, 1, 1, 1, 1, 1, 1, 1, 1,\n         1, 1, 1, 1, 1, 1, 1, 1, 1, 1, 1, 1, 1, 1, 1, 1, 1, 1, 1, 1, 1, 1, 1, 1,\n         1, 1, 1, 1, 1, 1, 1, 1, 1, 1, 1, 1, 1, 1, 1, 1, 1, 1, 1, 1, 1, 1, 1, 1,\n         1, 1, 1, 1, 1, 1, 1, 1, 1, 1, 1, 1, 1, 1, 1, 1, 1, 1, 1, 1, 1, 1, 1, 1,\n         1, 1, 1, 1, 1, 1, 1, 1, 1, 1, 1, 1, 1, 1, 1, 1, 1, 1, 1, 1, 1, 1, 1, 1,\n         1, 1, 1, 1, 1, 1, 1, 1, 1, 1, 1, 1, 1, 1, 1, 1, 1, 1, 1, 1, 1, 1, 1, 1,\n         1, 1, 1, 1, 1, 1, 1, 1, 1, 1, 1, 1, 1, 1, 1, 1, 1, 1, 1, 1, 1, 1, 1, 1,\n         1, 1, 1, 1, 1, 1, 1, 1, 1, 1, 1, 1, 1, 1, 1, 1, 1, 1, 1, 1, 1, 1, 1]])}"
     },
     "execution_count": 7,
     "metadata": {},
     "output_type": "execute_result"
    }
   ],
   "source": [
    "sentence = data[0]\n",
    "tokenized_data = tokenizer(sentence, return_tensors='pt')\n",
    "tokenized_data"
   ],
   "metadata": {
    "collapsed": false,
    "ExecuteTime": {
     "end_time": "2024-03-08T09:39:13.527003Z",
     "start_time": "2024-03-08T09:39:13.520415Z"
    }
   },
   "id": "b5c152a3428a6c26",
   "execution_count": 7
  },
  {
   "cell_type": "code",
   "outputs": [
    {
     "data": {
      "text/plain": "TokenClassifierOutput(loss=None, logits=tensor([[[ 0.3010,  0.2078, -1.3391,  ...,  0.1134, -0.0254, -1.2513],\n         [ 4.5767, -1.4675, -2.1649,  ..., -0.7354,  0.6201, -1.0496],\n         [ 3.5306, -1.3734, -1.3194,  ..., -0.3207,  0.9904, -0.8301],\n         ...,\n         [ 1.6698, -0.2334, -1.4185,  ..., -0.9062,  1.3581, -0.1205],\n         [ 1.4431, -0.0586, -1.2554,  ..., -0.6175,  0.3569, -1.0394],\n         [-2.6067, -0.9548, -0.9691,  ...,  1.9412,  0.1351,  1.0405]]],\n       grad_fn=<ViewBackward0>), hidden_states=None, attentions=None)"
     },
     "execution_count": 8,
     "metadata": {},
     "output_type": "execute_result"
    }
   ],
   "source": [
    "output = model(**tokenized_data)\n",
    "output"
   ],
   "metadata": {
    "collapsed": false,
    "ExecuteTime": {
     "end_time": "2024-03-08T09:39:15.380730Z",
     "start_time": "2024-03-08T09:39:15.210929Z"
    }
   },
   "id": "af6ce4f241f6ca13",
   "execution_count": 8
  },
  {
   "cell_type": "code",
   "outputs": [],
   "source": [
    "predictions = torch.argmax(output.logits, dim=2)\n",
    "predicted_token_class = [model.config.id2label[t.item()] for t in predictions[0]]"
   ],
   "metadata": {
    "collapsed": false,
    "ExecuteTime": {
     "end_time": "2024-03-08T09:42:34.536653Z",
     "start_time": "2024-03-08T09:42:34.523534Z"
    }
   },
   "id": "9d1ede37d979192c",
   "execution_count": 9
  },
  {
   "cell_type": "code",
   "outputs": [
    {
     "data": {
      "text/plain": "['B-G-bio',\n 'O',\n 'O',\n 'O',\n 'O',\n 'O',\n 'B-P-bio',\n 'B-P-bio',\n 'B-D-bio',\n 'I-D-bio',\n 'I-D-bio',\n 'I-D-bio',\n 'I-D-bio',\n 'I-D-bio',\n 'B-S-bio',\n 'B-S-bio',\n 'B-D-bio',\n 'B-S-bio',\n 'B-S-bio',\n 'B-S-bio',\n 'B-S-bio',\n 'B-S-bio',\n 'B-S-bio',\n 'B-G-bio',\n 'I-G-bio',\n 'I-G-bio',\n 'I-G-bio',\n 'B-S-bio',\n 'I-G-bio',\n 'I-G-bio',\n 'I-G-bio',\n 'I-G-bio',\n 'I-G-bio',\n 'I-G-bio',\n 'I-G-bio',\n 'I-G-bio',\n 'I-G-bio',\n 'I-G-bio',\n 'I-G-bio',\n 'I-G-bio',\n 'I-G-bio',\n 'I-G-bio',\n 'I-G-bio',\n 'I-G-bio',\n 'I-G-bio',\n 'I-G-bio',\n 'I-G-bio',\n 'I-G-bio',\n 'I-G-bio',\n 'I-G-bio',\n 'I-G-bio',\n 'I-G-bio',\n 'I-G-bio',\n 'I-G-bio',\n 'I-G-bio',\n 'I-G-bio',\n 'I-G-bio',\n 'I-G-bio',\n 'I-G-bio',\n 'I-G-bio',\n 'I-G-bio',\n 'I-G-bio',\n 'I-G-bio',\n 'I-G-bio',\n 'I-G-bio',\n 'I-G-bio',\n 'I-G-bio',\n 'I-G-bio',\n 'I-G-bio',\n 'I-G-bio',\n 'I-G-bio',\n 'I-G-bio',\n 'I-G-bio',\n 'I-G-bio',\n 'I-G-bio',\n 'I-G-bio',\n 'I-G-bio',\n 'I-G-bio',\n 'B-S-bio',\n 'B-S-bio',\n 'B-D-bio',\n 'O',\n 'B-S-bio',\n 'O',\n 'O',\n 'B-S-bio',\n 'B-P-bio',\n 'B-P-bio',\n 'B-P-bio',\n 'O',\n 'B-P-bio',\n 'B-P-bio',\n 'B-P-bio',\n 'B-P-bio',\n 'B-P-bio',\n 'B-D-bio',\n 'O',\n 'O',\n 'O',\n 'O',\n 'O',\n 'B-S-bio',\n 'O',\n 'O',\n 'B-S-bio',\n 'O',\n 'O',\n 'O',\n 'B-G-bio',\n 'O',\n 'O',\n 'O',\n 'O',\n 'O',\n 'O',\n 'B-G-bio',\n 'B-P-bio',\n 'B-P-bio',\n 'I-G-bio',\n 'O',\n 'I-G-bio',\n 'I-G-bio',\n 'I-G-bio',\n 'I-G-bio',\n 'I-G-bio',\n 'O',\n 'O',\n 'B-P-bio',\n 'O',\n 'O',\n 'O',\n 'O',\n 'O',\n 'O',\n 'B-G-bio',\n 'I-G-bio',\n 'I-G-bio',\n 'I-G-bio',\n 'I-G-bio',\n 'I-G-bio',\n 'I-G-bio',\n 'O',\n 'O',\n 'O',\n 'O',\n 'O',\n 'B-P-bio',\n 'O',\n 'O',\n 'O',\n 'O',\n 'O',\n 'O',\n 'O',\n 'B-P-bio',\n 'B-P-bio',\n 'B-P-bio',\n 'B-P-bio',\n 'I-P-bio',\n 'I-P-bio',\n 'I-P-bio',\n 'I-P-bio',\n 'B-P-bio',\n 'B-D-bio',\n 'O',\n 'O',\n 'O',\n 'O',\n 'O',\n 'B-S-bio',\n 'O',\n 'O',\n 'O',\n 'O',\n 'O',\n 'B-S-bio',\n 'B-P-bio',\n 'B-P-bio',\n 'B-P-bio',\n 'O',\n 'O',\n 'O',\n 'O',\n 'B-G-bio',\n 'B-P-bio',\n 'I-P-bio',\n 'I-P-bio',\n 'I-P-bio',\n 'I-P-bio',\n 'I-P-bio',\n 'I-P-bio',\n 'I-P-bio',\n 'I-P-bio',\n 'B-P-bio',\n 'B-D-bio',\n 'O',\n 'O',\n 'O',\n 'O',\n 'O',\n 'B-S-bio',\n 'O',\n 'O',\n 'O',\n 'O',\n 'O',\n 'B-G-bio',\n 'B-P-bio',\n 'O',\n 'O',\n 'B-A-bio',\n 'O',\n 'O',\n 'O',\n 'I-G-bio']"
     },
     "execution_count": 10,
     "metadata": {},
     "output_type": "execute_result"
    }
   ],
   "source": [
    "predicted_token_class"
   ],
   "metadata": {
    "collapsed": false,
    "ExecuteTime": {
     "end_time": "2024-03-08T09:42:39.935793Z",
     "start_time": "2024-03-08T09:42:39.931404Z"
    }
   },
   "id": "8395e45b064ca4c",
   "execution_count": 10
  },
  {
   "cell_type": "code",
   "outputs": [],
   "source": [],
   "metadata": {
    "collapsed": false
   },
   "id": "dc3216a709d68fe8"
  }
 ],
 "metadata": {
  "kernelspec": {
   "name": "openai",
   "language": "python",
   "display_name": "openai"
  },
  "language_info": {
   "codemirror_mode": {
    "name": "ipython",
    "version": 2
   },
   "file_extension": ".py",
   "mimetype": "text/x-python",
   "name": "python",
   "nbconvert_exporter": "python",
   "pygments_lexer": "ipython2",
   "version": "2.7.6"
  }
 },
 "nbformat": 4,
 "nbformat_minor": 5
}
